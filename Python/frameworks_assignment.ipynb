{
 "cells": [
  {
   "cell_type": "code",
   "execution_count": 4,
   "id": "78f91e80-a2fa-4fae-8010-1767894478e4",
   "metadata": {
    "collapsed": true,
    "jupyter": {
     "outputs_hidden": true
    }
   },
   "outputs": [
    {
     "name": "stdout",
     "output_type": "stream",
     "text": [
      "<class 'pandas.core.frame.DataFrame'>\n",
      "RangeIndex: 10000 entries, 0 to 9999\n",
      "Data columns (total 7 columns):\n",
      " #   Column        Non-Null Count  Dtype \n",
      "---  ------        --------------  ----- \n",
      " 0   cord_uid      10000 non-null  object\n",
      " 1   source_x      10000 non-null  object\n",
      " 2   title         10000 non-null  object\n",
      " 3   abstract      7855 non-null   object\n",
      " 4   publish_time  10000 non-null  object\n",
      " 5   authors       9406 non-null   object\n",
      " 6   journal       9953 non-null   object\n",
      "dtypes: object(7)\n",
      "memory usage: 547.0+ KB\n"
     ]
    }
   ],
   "source": [
    "import pandas as pd\n",
    "\n",
    "df = pd.read_csv(\"C:/Users/HP/Documents/Python Codes/Jupyter notebook/Datasets/metadata_sample2.csv\")\n",
    "df.head()\n",
    "df.info()"
   ]
  },
  {
   "cell_type": "code",
   "execution_count": 10,
   "id": "9ac31aba-6380-49d5-8420-9a7f14b227e9",
   "metadata": {},
   "outputs": [
    {
     "name": "stdout",
     "output_type": "stream",
     "text": [
      "abstract    object\n",
      "journal     object\n",
      "dtype: object\n",
      "      abstract  journal\n",
      "0        False    False\n",
      "1        False    False\n",
      "2        False    False\n",
      "3        False    False\n",
      "4        False    False\n",
      "...        ...      ...\n",
      "9995     False    False\n",
      "9996     False    False\n",
      "9997     False    False\n",
      "9998     False    False\n",
      "9999     False    False\n",
      "\n",
      "[7817 rows x 2 columns]\n",
      "                                                 abstract   journal\n",
      "count                                                7817      7817\n",
      "unique                                               7798      1798\n",
      "top     This article is one of ten reviews selected fr...  PLoS One\n",
      "freq                                                    9       697\n"
     ]
    }
   ],
   "source": [
    "#Check the DataFrame dimensions (rows, colunms)\n",
    "df.shape\n",
    "\n",
    "#Identify data types of each column\n",
    "print(df.dtypes)\n",
    "\n",
    "#Check for missing values in important columsn\n",
    "print(df.isnull())\n",
    "\n",
    "#Generate basis stat for numerical columns\n",
    "print(df.describe())"
   ]
  },
  {
   "cell_type": "code",
   "execution_count": 15,
   "id": "48803184-8c4d-4289-9f13-cd21bfd149a8",
   "metadata": {},
   "outputs": [
    {
     "name": "stdout",
     "output_type": "stream",
     "text": [
      "abstract    0\n",
      "journal     0\n",
      "dtype: int64\n",
      "Index(['abstract', 'journal'], dtype='object')\n",
      "                                            abstract         journal\n",
      "0  OBJECTIVE: This retrospective chart review des...  BMC Infect Dis\n",
      "1  Inflammatory diseases of the respiratory tract...      Respir Res\n",
      "2  Surfactant protein-D (SP-D) participates in th...      Respir Res\n",
      "3  Endothelin-1 (ET-1) is a 21 amino acid peptide...      Respir Res\n",
      "4  Respiratory syncytial virus (RSV) and pneumoni...      Respir Res\n"
     ]
    }
   ],
   "source": [
    "#identify columns with missing values\n",
    "print(df.isna().sum())\n",
    "print(df.columns)\n",
    "print(df.head())"
   ]
  },
  {
   "cell_type": "code",
   "execution_count": null,
   "id": "cf9ca406-bb16-46e2-b210-3da919db2095",
   "metadata": {},
   "outputs": [],
   "source": []
  }
 ],
 "metadata": {
  "kernelspec": {
   "display_name": "Python 3 (ipykernel)",
   "language": "python",
   "name": "python3"
  },
  "language_info": {
   "codemirror_mode": {
    "name": "ipython",
    "version": 3
   },
   "file_extension": ".py",
   "mimetype": "text/x-python",
   "name": "python",
   "nbconvert_exporter": "python",
   "pygments_lexer": "ipython3",
   "version": "3.13.5"
  }
 },
 "nbformat": 4,
 "nbformat_minor": 5
}
